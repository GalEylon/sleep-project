{
 "cells": [
  {
   "cell_type": "markdown",
   "metadata": {},
   "source": [
    "# Testing the code framework\n",
    "\n",
    "This notebook demonstrates how to use common classes and functions for the project"
   ]
  },
  {
   "cell_type": "code",
   "execution_count": 3,
   "metadata": {},
   "outputs": [],
   "source": [
    "\n",
    "import mne\n",
    "from mne.io import read_raw_edf\n",
    "from mne.filter import filter_data\n",
    "\n",
    "from eeg_sleep import EEGSleep\n",
    "\n",
    "import yasa\n",
    "import numpy as np\n",
    "import pandas as pd\n",
    "import matplotlib.pyplot as plt\n",
    "from pandas import core\n",
    "import os\n",
    "import re\n",
    "from datetime import datetime, timedelta\n",
    "#import PyQt5\n",
    "\n",
    "from scipy.signal import butter, filtfilt,savgol_filter,find_peaks,welch\n",
    "from scipy.ndimage import median_filter\n",
    "from scipy.ndimage import gaussian_filter\n",
    "\n",
    "from scipy.stats import kurtosis\n",
    "from sklearn.preprocessing import normalize\n",
    "\n",
    "from utilities import project_data_dir\n",
    "import argparse"
   ]
  },
  {
   "cell_type": "code",
   "execution_count": null,
   "metadata": {},
   "outputs": [],
   "source": []
  },
  {
   "cell_type": "markdown",
   "metadata": {},
   "source": [
    "## Read command line arguments from scripts"
   ]
  },
  {
   "cell_type": "code",
   "execution_count": 2,
   "metadata": {},
   "outputs": [
    {
     "data": {
      "text/plain": [
       "_StoreAction(option_strings=['--model'], dest='model', nargs=None, const=None, default=None, type=<class 'str'>, choices=None, required=False, help=None, metavar=None)"
      ]
     },
     "execution_count": 2,
     "metadata": {},
     "output_type": "execute_result"
    }
   ],
   "source": [
    "parser=argparse.ArgumentParser()\n",
    "parser.add_argument('--project_name', type=str)\n",
    "parser.add_argument('--model', type=str)\n",
    "#args= parser.parse_args()"
   ]
  },
  {
   "cell_type": "code",
   "execution_count": 3,
   "metadata": {},
   "outputs": [],
   "source": [
    "## Inout variabels from a script"
   ]
  },
  {
   "cell_type": "code",
   "execution_count": 4,
   "metadata": {},
   "outputs": [
    {
     "name": "stdout",
     "output_type": "stream",
     "text": [
      "Namespace(project_name='Dreem', model='YASA')\n"
     ]
    }
   ],
   "source": [
    "args = parser.parse_args(args=['--project_name', 'Dreem', '--model', 'YASA'])\n",
    "print(args)"
   ]
  },
  {
   "cell_type": "code",
   "execution_count": 5,
   "metadata": {},
   "outputs": [
    {
     "name": "stdout",
     "output_type": "stream",
     "text": [
      "Namespace(project_name='Dreem', model='YASA')\n",
      "Dreem YASA\n"
     ]
    }
   ],
   "source": [
    "print(args)\n",
    "print(args.project_name, args.model)"
   ]
  },
  {
   "cell_type": "markdown",
   "metadata": {},
   "source": [
    "## Use command line parameters to read files and drive the processing"
   ]
  },
  {
   "cell_type": "code",
   "execution_count": 6,
   "metadata": {},
   "outputs": [
    {
     "name": "stdout",
     "output_type": "stream",
     "text": [
      "/mnt/ceph/users/mhacohen/data/Dreem\n"
     ]
    }
   ],
   "source": [
    "data_folder = project_data_dir[args.project_name]\n",
    "print(data_folder)\n",
    "\n",
    "# Set directory path to where the EDF files are located\n",
    "edf_dir = os.path.join(data_folder,'edf')\n",
    "csv_dir = os.path.join(data_folder,'Ilan')\n",
    "\n",
    "# Get list of EDF files in the directory\n",
    "edf_files = [file for file in os.listdir(edf_dir) if (file.startswith('sfsleeproject_test01_')) | (file.startswith('sfsleeproject_test06_'))]\n",
    "csv_files = [file for file in os.listdir(csv_dir) if (file.endswith(r'.csv') and not (file.endswith(r'fft.csv')))]"
   ]
  },
  {
   "cell_type": "code",
   "execution_count": 7,
   "metadata": {},
   "outputs": [],
   "source": [
    "eeg_param=pd.DataFrame()\n",
    "file_path='/mnt/ceph/users/mhacohen/data/Dreem/edf/sfsleeproject_test01_2022-10-18T23-05-20[04-00].edf'"
   ]
  },
  {
   "cell_type": "code",
   "execution_count": 8,
   "metadata": {},
   "outputs": [
    {
     "name": "stdout",
     "output_type": "stream",
     "text": [
      "/mnt/ceph/users/mhacohen/data/Dreem/edf/sfsleeproject_test01_2022-10-18T23-05-20[04-00].edf\n"
     ]
    }
   ],
   "source": [
    "\n",
    "print(file_path)"
   ]
  },
  {
   "cell_type": "markdown",
   "metadata": {},
   "source": [
    "## Use the EEGSleep Class to access functions to preprocess and analyze the data"
   ]
  },
  {
   "cell_type": "code",
   "execution_count": 9,
   "metadata": {},
   "outputs": [],
   "source": [
    "eeg_sleep_instance = EEGSleep(project_name=args.project_name)\n"
   ]
  },
  {
   "cell_type": "code",
   "execution_count": 10,
   "metadata": {},
   "outputs": [
    {
     "name": "stdout",
     "output_type": "stream",
     "text": [
      "Extracting EDF parameters from /mnt/ceph/users/mhacohen/data/Dreem/edf/sfsleeproject_test01_2022-10-18T23-05-20[04-00].edf...\n",
      "EDF file detected\n",
      "Setting channel info structure...\n",
      "Creating raw.info structure...\n",
      "Reading 0 ... 4544499  =      0.000 ... 18177.996 secs...\n",
      "Filtering raw data in 1 contiguous segment\n",
      "Setting up high-pass filter at 1 Hz\n",
      "\n",
      "FIR filter parameters\n",
      "---------------------\n",
      "Designing a one-pass, zero-phase, non-causal highpass filter:\n",
      "- Windowed time-domain design (firwin) method\n",
      "- Hamming window with 0.0194 passband ripple and 53 dB stopband attenuation\n",
      "- Lower passband edge: 1.00\n",
      "- Lower transition bandwidth: 1.00 Hz (-6 dB cutoff frequency: 0.50 Hz)\n",
      "- Filter length: 825 samples (3.300 s)\n",
      "\n"
     ]
    },
    {
     "name": "stderr",
     "output_type": "stream",
     "text": [
      "[Parallel(n_jobs=1)]: Using backend SequentialBackend with 1 concurrent workers.\n",
      "[Parallel(n_jobs=1)]: Done   1 out of   1 | elapsed:    0.2s remaining:    0.0s\n",
      "[Parallel(n_jobs=1)]: Done   2 out of   2 | elapsed:    0.3s remaining:    0.0s\n",
      "[Parallel(n_jobs=1)]: Done   3 out of   3 | elapsed:    0.5s remaining:    0.0s\n",
      "[Parallel(n_jobs=1)]: Done   4 out of   4 | elapsed:    0.7s remaining:    0.0s\n",
      "[Parallel(n_jobs=1)]: Done  10 out of  10 | elapsed:    1.7s finished\n"
     ]
    }
   ],
   "source": [
    "eeg_preprocessed_data =eeg_sleep_instance.preprocess_eeg_data(file_path)"
   ]
  },
  {
   "cell_type": "markdown",
   "metadata": {},
   "source": [
    "### To choose best electrode, first prepare all the inputs. Then call the `best electrode method`"
   ]
  },
  {
   "cell_type": "code",
   "execution_count": null,
   "metadata": {},
   "outputs": [],
   "source": [
    "eeg_sleep_instance.choose_best_electrode(epochs, fft_mark_all, kurt_mark_all, var_mark_all,\n",
    "                              mob_mark_all, comp_mark_all, amp_mark_all, diff_mark_all, maxk_amp_all)"
   ]
  }
 ],
 "metadata": {
  "kernelspec": {
   "display_name": "mykernel",
   "language": "python",
   "name": "mykernel"
  },
  "language_info": {
   "codemirror_mode": {
    "name": "ipython",
    "version": 3
   },
   "file_extension": ".py",
   "mimetype": "text/x-python",
   "name": "python",
   "nbconvert_exporter": "python",
   "pygments_lexer": "ipython3",
   "version": "3.11.3"
  }
 },
 "nbformat": 4,
 "nbformat_minor": 4
}
